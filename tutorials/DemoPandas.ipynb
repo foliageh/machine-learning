{
 "cells": [
  {
   "cell_type": "markdown",
   "metadata": {},
   "source": [
    "# Демонстрация ко второй задаче: \"Pandas и работа с данными\""
   ]
  },
  {
   "cell_type": "markdown",
   "metadata": {},
   "source": [
    "## Загрузка библиотеки Pandas"
   ]
  },
  {
   "cell_type": "code",
   "execution_count": 1,
   "metadata": {},
   "outputs": [],
   "source": [
    "import pandas"
   ]
  },
  {
   "cell_type": "markdown",
   "metadata": {},
   "source": [
    "## Чтение данных"
   ]
  },
  {
   "cell_type": "code",
   "execution_count": 2,
   "metadata": {},
   "outputs": [],
   "source": [
    "table = pandas.read_csv('weather.csv')"
   ]
  },
  {
   "cell_type": "code",
   "execution_count": 3,
   "metadata": {},
   "outputs": [
    {
     "data": {
      "text/html": [
       "<div>\n",
       "<style>\n",
       "    .dataframe thead tr:only-child th {\n",
       "        text-align: right;\n",
       "    }\n",
       "\n",
       "    .dataframe thead th {\n",
       "        text-align: left;\n",
       "    }\n",
       "\n",
       "    .dataframe tbody tr th {\n",
       "        vertical-align: top;\n",
       "    }\n",
       "</style>\n",
       "<table border=\"1\" class=\"dataframe\">\n",
       "  <thead>\n",
       "    <tr style=\"text-align: right;\">\n",
       "      <th></th>\n",
       "      <th>datetime</th>\n",
       "      <th>humidity</th>\n",
       "      <th>pressure</th>\n",
       "      <th>temperature</th>\n",
       "      <th>wind_direction</th>\n",
       "      <th>wind_speed</th>\n",
       "      <th>label</th>\n",
       "    </tr>\n",
       "  </thead>\n",
       "  <tbody>\n",
       "    <tr>\n",
       "      <th>0</th>\n",
       "      <td>2015-06-28 23:00:00</td>\n",
       "      <td>60</td>\n",
       "      <td>1007</td>\n",
       "      <td>294.480</td>\n",
       "      <td>260</td>\n",
       "      <td>3</td>\n",
       "      <td>rain</td>\n",
       "    </tr>\n",
       "    <tr>\n",
       "      <th>1</th>\n",
       "      <td>2015-06-22 21:00:00</td>\n",
       "      <td>47</td>\n",
       "      <td>1024</td>\n",
       "      <td>301.300</td>\n",
       "      <td>297</td>\n",
       "      <td>2</td>\n",
       "      <td>clear</td>\n",
       "    </tr>\n",
       "    <tr>\n",
       "      <th>2</th>\n",
       "      <td>2015-06-23 00:00:00</td>\n",
       "      <td>48</td>\n",
       "      <td>1024</td>\n",
       "      <td>299.894</td>\n",
       "      <td>309</td>\n",
       "      <td>1</td>\n",
       "      <td>clear</td>\n",
       "    </tr>\n",
       "    <tr>\n",
       "      <th>3</th>\n",
       "      <td>2015-06-19 20:00:00</td>\n",
       "      <td>88</td>\n",
       "      <td>1023</td>\n",
       "      <td>295.710</td>\n",
       "      <td>332</td>\n",
       "      <td>2</td>\n",
       "      <td>rain</td>\n",
       "    </tr>\n",
       "    <tr>\n",
       "      <th>4</th>\n",
       "      <td>2015-06-20 21:00:00</td>\n",
       "      <td>97</td>\n",
       "      <td>1027</td>\n",
       "      <td>292.926</td>\n",
       "      <td>131</td>\n",
       "      <td>2</td>\n",
       "      <td>rain</td>\n",
       "    </tr>\n",
       "  </tbody>\n",
       "</table>\n",
       "</div>"
      ],
      "text/plain": [
       "              datetime  humidity  pressure  temperature  wind_direction  \\\n",
       "0  2015-06-28 23:00:00        60      1007      294.480             260   \n",
       "1  2015-06-22 21:00:00        47      1024      301.300             297   \n",
       "2  2015-06-23 00:00:00        48      1024      299.894             309   \n",
       "3  2015-06-19 20:00:00        88      1023      295.710             332   \n",
       "4  2015-06-20 21:00:00        97      1027      292.926             131   \n",
       "\n",
       "   wind_speed  label  \n",
       "0           3   rain  \n",
       "1           2  clear  \n",
       "2           1  clear  \n",
       "3           2   rain  \n",
       "4           2   rain  "
      ]
     },
     "execution_count": 3,
     "metadata": {},
     "output_type": "execute_result"
    }
   ],
   "source": [
    "table.head()"
   ]
  },
  {
   "cell_type": "markdown",
   "metadata": {},
   "source": [
    "## Фильтрация строчек, удовлетворяющих критерию"
   ]
  },
  {
   "cell_type": "code",
   "execution_count": 4,
   "metadata": {},
   "outputs": [],
   "source": [
    "selected = table.query('wind_speed >= 2 & label == \"clear\" & humidity > 92')"
   ]
  },
  {
   "cell_type": "code",
   "execution_count": 5,
   "metadata": {},
   "outputs": [
    {
     "data": {
      "text/html": [
       "<div>\n",
       "<style>\n",
       "    .dataframe thead tr:only-child th {\n",
       "        text-align: right;\n",
       "    }\n",
       "\n",
       "    .dataframe thead th {\n",
       "        text-align: left;\n",
       "    }\n",
       "\n",
       "    .dataframe tbody tr th {\n",
       "        vertical-align: top;\n",
       "    }\n",
       "</style>\n",
       "<table border=\"1\" class=\"dataframe\">\n",
       "  <thead>\n",
       "    <tr style=\"text-align: right;\">\n",
       "      <th></th>\n",
       "      <th>datetime</th>\n",
       "      <th>humidity</th>\n",
       "      <th>pressure</th>\n",
       "      <th>temperature</th>\n",
       "      <th>wind_direction</th>\n",
       "      <th>wind_speed</th>\n",
       "      <th>label</th>\n",
       "    </tr>\n",
       "  </thead>\n",
       "  <tbody>\n",
       "    <tr>\n",
       "      <th>11</th>\n",
       "      <td>2015-06-19 09:00:00</td>\n",
       "      <td>97</td>\n",
       "      <td>1020</td>\n",
       "      <td>292.763</td>\n",
       "      <td>249</td>\n",
       "      <td>2</td>\n",
       "      <td>clear</td>\n",
       "    </tr>\n",
       "    <tr>\n",
       "      <th>18</th>\n",
       "      <td>2015-06-22 11:00:00</td>\n",
       "      <td>96</td>\n",
       "      <td>1023</td>\n",
       "      <td>294.110</td>\n",
       "      <td>295</td>\n",
       "      <td>3</td>\n",
       "      <td>clear</td>\n",
       "    </tr>\n",
       "    <tr>\n",
       "      <th>30</th>\n",
       "      <td>2015-06-04 02:00:00</td>\n",
       "      <td>94</td>\n",
       "      <td>1034</td>\n",
       "      <td>285.521</td>\n",
       "      <td>136</td>\n",
       "      <td>2</td>\n",
       "      <td>clear</td>\n",
       "    </tr>\n",
       "  </tbody>\n",
       "</table>\n",
       "</div>"
      ],
      "text/plain": [
       "               datetime  humidity  pressure  temperature  wind_direction  \\\n",
       "11  2015-06-19 09:00:00        97      1020      292.763             249   \n",
       "18  2015-06-22 11:00:00        96      1023      294.110             295   \n",
       "30  2015-06-04 02:00:00        94      1034      285.521             136   \n",
       "\n",
       "    wind_speed  label  \n",
       "11           2  clear  \n",
       "18           3  clear  \n",
       "30           2  clear  "
      ]
     },
     "execution_count": 5,
     "metadata": {},
     "output_type": "execute_result"
    }
   ],
   "source": [
    "selected"
   ]
  },
  {
   "cell_type": "markdown",
   "metadata": {},
   "source": [
    "## Подсчет средней температуры по отфильтрованной таблице"
   ]
  },
  {
   "cell_type": "code",
   "execution_count": 6,
   "metadata": {},
   "outputs": [
    {
     "data": {
      "text/plain": [
       "290.798"
      ]
     },
     "execution_count": 6,
     "metadata": {},
     "output_type": "execute_result"
    }
   ],
   "source": [
    "selected['temperature'].mean()"
   ]
  }
 ],
 "metadata": {
  "kernelspec": {
   "display_name": "Python 3",
   "language": "python",
   "name": "python3"
  },
  "language_info": {
   "codemirror_mode": {
    "name": "ipython",
    "version": 3
   },
   "file_extension": ".py",
   "mimetype": "text/x-python",
   "name": "python",
   "nbconvert_exporter": "python",
   "pygments_lexer": "ipython3",
   "version": "3.7.1"
  }
 },
 "nbformat": 4,
 "nbformat_minor": 2
}
