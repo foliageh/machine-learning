{
 "cells": [
  {
   "cell_type": "markdown",
   "metadata": {},
   "source": [
    "# Демонстрация к третьей задаче"
   ]
  },
  {
   "cell_type": "markdown",
   "metadata": {},
   "source": [
    "## Игра Dota 2\n",
    "\n",
    "Далее мы будем рассматривать данные по дракам в игре Dota 2.\n",
    "\n",
    "[Dota 2](https://ru.wikipedia.org/wiki/Dota_2) — многопользовательская компьютерная игра жанра [MOBA](https://ru.wikipedia.org/wiki/MOBA). Игроки играют между собой матчи. В каждом матче участвует две команды, 5 человек в каждой. Игрока можно идентифицировать по номеру слота, на котором он сидит, одна команда играет за светлую сторону (The Radiant), слоты с 1 по 5, другая — за тёмную (The Dire), слоты с 6 по 10. Цель каждой команды — уничтожить главное здание базы противника (трон).\n",
    "\n",
    "### Как проходит матч\n",
    "\n",
    "#### 1. Игроки выбирают героев\n",
    "\n",
    "Всего в игре чуть более 100 различных героев (персонажей). В начале игры, команды в определенном порядке выбирают героев себе и запрещают выбирать определенных героев противнику (баны). Каждый игрок будет управлять одним героем, в рамках одного матча не может быть несколько одинаковых героев.  Герои различаются между собой своими характеристиками и способностями. От комбинации выбранных героев во многом зависит успех команды.\n",
    "\n",
    "<img src=\"images/screen_captains_mode.jpg\" width=\"500\">\n",
    "\n",
    "#### 2. Основная часть\n",
    "\n",
    "Игроки могут получать золото и опыт за убийство чужих героев, или прочих юнитов. Накопленный опыт влияет на уровень героя, который в свою очередь позволяет улучшать способности. За накопленное золото игроки покупают предметы, которые улучшают характеристики героев или дают им новые способности.\n",
    "\n",
    "После смерти герой отправляется в \"таверну\" и возрождается только по прошествии некоторого времени, таким образом команда на некоторое время теряет игрока, однако игрок может досрочно выкупить героя из таверны за определенную сумму золота.\n",
    "\n",
    "В течение игры команды развивают своих героев, обороняют свою часть поля и нападают на вражескую.\n",
    "\n",
    "#### Драки\n",
    "В игре существует понятие teamfight (драка, тимфайт). Тимфайт - это драка между персонажами двух соперничающих команд (The Radiant и The Dire), в которой участвуют как минимум 2 персонажа от каждой команды. Обычно тимфайты происходят при нападении на вышки, когда одна команда атакует, а другая защищается, а также при убийстве рошана, заходе на возвышенность и т.д. Драка может длиться от нескольких секунд, до нескольких минут, но обычно укладывается в 20-40 секунд. Обычно в игре происходит более 5 драк. Говорят, что команда победила в драке, если в сумме она заработала больше золота на момент окончания драки, чем команда противника."
   ]
  },
  {
   "cell_type": "code",
   "execution_count": null,
   "metadata": {},
   "outputs": [],
   "source": [
    "from IPython.display import HTML"
   ]
  },
  {
   "cell_type": "code",
   "execution_count": 2,
   "metadata": {},
   "outputs": [
    {
     "data": {
      "text/html": [
       "<iframe>\n",
       "width=\"500\" height=\"281\" \n",
       "src=\"https://www.youtube.com/embed/fcLO6CdJwgg\" \n",
       "frameborder=\"0\" \n",
       "allow=\"autoplay; encrypted-media\" allowfullscreen></iframe>\n"
      ],
      "text/plain": [
       "<IPython.core.display.HTML object>"
      ]
     },
     "metadata": {},
     "output_type": "display_data"
    }
   ],
   "source": [
    "%%HTML\n",
    "<iframe>\n",
    "width=\"500\" height=\"281\" \n",
    "src=\"https://www.youtube.com/embed/fcLO6CdJwgg\" \n",
    "frameborder=\"0\" \n",
    "allow=\"autoplay; encrypted-media\" allowfullscreen></iframe>"
   ]
  },
  {
   "cell_type": "markdown",
   "metadata": {},
   "source": [
    "#### 3. Конец игры\n",
    "\n",
    "Игра заканчивается, когда одна из команд разрушет определенное число \"башен\" противника и уничтожает трон.\n",
    "\n",
    "<img src=\"images/screen_game_end.jpg\" width=\"500\">"
   ]
  },
  {
   "cell_type": "markdown",
   "metadata": {},
   "source": [
    "## Загрузка необходимых библиотек\n",
    "\n",
    "Для работы нам понадобятся две библиотеки:\n",
    "1. `pandas`: при помощи нее мы считаем из файла таблицу с данными\n",
    "2. `matplotlib`: библиотека для визуализации данных"
   ]
  },
  {
   "cell_type": "code",
   "execution_count": 3,
   "metadata": {},
   "outputs": [],
   "source": [
    "import pandas as pd\n",
    "import matplotlib.pyplot as plt"
   ]
  },
  {
   "cell_type": "markdown",
   "metadata": {},
   "source": [
    "## Чтение данных из CSV файла\n",
    "\n",
    "Таблица содержит информацию по [золоту](https://dota2-ru.gamepedia.com/%D0%97%D0%BE%D0%BB%D0%BE%D1%82%D0%BE), [опыту](https://dota2-ru.gamepedia.com/%D0%9E%D0%BF%D1%8B%D1%82) и числу добитых [крипов](https://dota2-ru.gamepedia.com/%D0%9A%D1%80%D0%B8%D0%BF%D1%8B) и прочие показатели игроков перед началом драк в матчах Dota 2.\n",
    "\n",
    "Функция `pd.concat()` позволяет соединять таблицы `pd.DataFrame()`:\n",
    "- `axis=0` - Объединение по строкам\n",
    "- `axis=1` - Объединение по столбцам\n",
    "\n",
    "Здесь мы используем значение параметра `axis=1`, потому что хотим одновременно использовать колонки из `data/target.csv` и `data/train.csv`\n",
    "\n",
    "- `r1_gold`: стоимость игрока на первом слоте\n",
    "- `r1_xp`: опыт игрока на первом слоте\n",
    "- `r1_lh`: число добитых крипов игроком на первом слоте\n",
    "- `r2_gold`: стоимость игрока на втором слоте\n",
    "- `r2_xp`: опыт игрока на втором слоте\n",
    "- `r2_lh`: число добитых крипов игроком на втором слоте\n",
    "- `d1_gold`: стоимость игрока на шестом (первом для Dire) слоте\n",
    "- `d2_gold`: стоимость игрока на седьмом (втором для Dire) слоте\n",
    "\n",
    "..."
   ]
  },
  {
   "cell_type": "code",
   "execution_count": 4,
   "metadata": {},
   "outputs": [],
   "source": [
    "table = pd.concat([\n",
    "    pd.read_csv('data/train.csv', index_col=0),\n",
    "    pd.read_csv('data/target.csv', index_col=0)\n",
    "], axis=1)"
   ]
  },
  {
   "cell_type": "markdown",
   "metadata": {},
   "source": [
    "Взгляним на данные"
   ]
  },
  {
   "cell_type": "code",
   "execution_count": 5,
   "metadata": {},
   "outputs": [
    {
     "data": {
      "text/html": [
       "<div>\n",
       "<style scoped>\n",
       "    .dataframe tbody tr th:only-of-type {\n",
       "        vertical-align: middle;\n",
       "    }\n",
       "\n",
       "    .dataframe tbody tr th {\n",
       "        vertical-align: top;\n",
       "    }\n",
       "\n",
       "    .dataframe thead th {\n",
       "        text-align: right;\n",
       "    }\n",
       "</style>\n",
       "<table border=\"1\" class=\"dataframe\">\n",
       "  <thead>\n",
       "    <tr style=\"text-align: right;\">\n",
       "      <th></th>\n",
       "      <th>lobby_type</th>\n",
       "      <th>r1_hero</th>\n",
       "      <th>r1_xp</th>\n",
       "      <th>r1_gold</th>\n",
       "      <th>r1_lh</th>\n",
       "      <th>r1_kills</th>\n",
       "      <th>r1_deaths</th>\n",
       "      <th>r1_items</th>\n",
       "      <th>r2_hero</th>\n",
       "      <th>r2_xp</th>\n",
       "      <th>...</th>\n",
       "      <th>radiant_first_ward_time</th>\n",
       "      <th>dire_bottle_time</th>\n",
       "      <th>dire_courier_time</th>\n",
       "      <th>dire_flying_courier_time</th>\n",
       "      <th>dire_tpscroll_count</th>\n",
       "      <th>dire_boots_count</th>\n",
       "      <th>dire_ward_observer_count</th>\n",
       "      <th>dire_ward_sentry_count</th>\n",
       "      <th>dire_first_ward_time</th>\n",
       "      <th>radiant_won</th>\n",
       "    </tr>\n",
       "    <tr>\n",
       "      <th>fight_id</th>\n",
       "      <th></th>\n",
       "      <th></th>\n",
       "      <th></th>\n",
       "      <th></th>\n",
       "      <th></th>\n",
       "      <th></th>\n",
       "      <th></th>\n",
       "      <th></th>\n",
       "      <th></th>\n",
       "      <th></th>\n",
       "      <th></th>\n",
       "      <th></th>\n",
       "      <th></th>\n",
       "      <th></th>\n",
       "      <th></th>\n",
       "      <th></th>\n",
       "      <th></th>\n",
       "      <th></th>\n",
       "      <th></th>\n",
       "      <th></th>\n",
       "      <th></th>\n",
       "    </tr>\n",
       "  </thead>\n",
       "  <tbody>\n",
       "    <tr>\n",
       "      <th>0</th>\n",
       "      <td>0</td>\n",
       "      <td>21</td>\n",
       "      <td>22443</td>\n",
       "      <td>17670</td>\n",
       "      <td>165</td>\n",
       "      <td>13</td>\n",
       "      <td>0</td>\n",
       "      <td>30</td>\n",
       "      <td>6</td>\n",
       "      <td>23496</td>\n",
       "      <td>...</td>\n",
       "      <td>54.65332</td>\n",
       "      <td>NaN</td>\n",
       "      <td>NaN</td>\n",
       "      <td>400.16898</td>\n",
       "      <td>36</td>\n",
       "      <td>4</td>\n",
       "      <td>3</td>\n",
       "      <td>1</td>\n",
       "      <td>2.86596</td>\n",
       "      <td>True</td>\n",
       "    </tr>\n",
       "    <tr>\n",
       "      <th>1</th>\n",
       "      <td>0</td>\n",
       "      <td>22</td>\n",
       "      <td>18303</td>\n",
       "      <td>14005</td>\n",
       "      <td>109</td>\n",
       "      <td>9</td>\n",
       "      <td>0</td>\n",
       "      <td>38</td>\n",
       "      <td>16</td>\n",
       "      <td>15909</td>\n",
       "      <td>...</td>\n",
       "      <td>-23.60504</td>\n",
       "      <td>NaN</td>\n",
       "      <td>NaN</td>\n",
       "      <td>202.87660</td>\n",
       "      <td>46</td>\n",
       "      <td>5</td>\n",
       "      <td>14</td>\n",
       "      <td>11</td>\n",
       "      <td>-4.13422</td>\n",
       "      <td>False</td>\n",
       "    </tr>\n",
       "    <tr>\n",
       "      <th>2</th>\n",
       "      <td>7</td>\n",
       "      <td>76</td>\n",
       "      <td>22313</td>\n",
       "      <td>17257</td>\n",
       "      <td>247</td>\n",
       "      <td>4</td>\n",
       "      <td>0</td>\n",
       "      <td>51</td>\n",
       "      <td>98</td>\n",
       "      <td>20721</td>\n",
       "      <td>...</td>\n",
       "      <td>-24.89392</td>\n",
       "      <td>NaN</td>\n",
       "      <td>NaN</td>\n",
       "      <td>226.01148</td>\n",
       "      <td>46</td>\n",
       "      <td>5</td>\n",
       "      <td>19</td>\n",
       "      <td>16</td>\n",
       "      <td>-14.76307</td>\n",
       "      <td>False</td>\n",
       "    </tr>\n",
       "    <tr>\n",
       "      <th>3</th>\n",
       "      <td>7</td>\n",
       "      <td>4</td>\n",
       "      <td>15055</td>\n",
       "      <td>11879</td>\n",
       "      <td>112</td>\n",
       "      <td>11</td>\n",
       "      <td>0</td>\n",
       "      <td>27</td>\n",
       "      <td>44</td>\n",
       "      <td>16640</td>\n",
       "      <td>...</td>\n",
       "      <td>-0.56653</td>\n",
       "      <td>NaN</td>\n",
       "      <td>NaN</td>\n",
       "      <td>1027.51575</td>\n",
       "      <td>38</td>\n",
       "      <td>4</td>\n",
       "      <td>14</td>\n",
       "      <td>12</td>\n",
       "      <td>-21.56140</td>\n",
       "      <td>False</td>\n",
       "    </tr>\n",
       "    <tr>\n",
       "      <th>4</th>\n",
       "      <td>7</td>\n",
       "      <td>43</td>\n",
       "      <td>13003</td>\n",
       "      <td>12716</td>\n",
       "      <td>167</td>\n",
       "      <td>0</td>\n",
       "      <td>0</td>\n",
       "      <td>19</td>\n",
       "      <td>36</td>\n",
       "      <td>15265</td>\n",
       "      <td>...</td>\n",
       "      <td>0.29993</td>\n",
       "      <td>NaN</td>\n",
       "      <td>NaN</td>\n",
       "      <td>517.10706</td>\n",
       "      <td>38</td>\n",
       "      <td>5</td>\n",
       "      <td>2</td>\n",
       "      <td>0</td>\n",
       "      <td>475.45059</td>\n",
       "      <td>False</td>\n",
       "    </tr>\n",
       "  </tbody>\n",
       "</table>\n",
       "<p>5 rows × 92 columns</p>\n",
       "</div>"
      ],
      "text/plain": [
       "          lobby_type  r1_hero  r1_xp  r1_gold  r1_lh  r1_kills  r1_deaths  \\\n",
       "fight_id                                                                    \n",
       "0                  0       21  22443    17670    165        13          0   \n",
       "1                  0       22  18303    14005    109         9          0   \n",
       "2                  7       76  22313    17257    247         4          0   \n",
       "3                  7        4  15055    11879    112        11          0   \n",
       "4                  7       43  13003    12716    167         0          0   \n",
       "\n",
       "          r1_items  r2_hero  r2_xp     ...       radiant_first_ward_time  \\\n",
       "fight_id                               ...                                 \n",
       "0               30        6  23496     ...                      54.65332   \n",
       "1               38       16  15909     ...                     -23.60504   \n",
       "2               51       98  20721     ...                     -24.89392   \n",
       "3               27       44  16640     ...                      -0.56653   \n",
       "4               19       36  15265     ...                       0.29993   \n",
       "\n",
       "          dire_bottle_time  dire_courier_time  dire_flying_courier_time  \\\n",
       "fight_id                                                                  \n",
       "0                      NaN                NaN                 400.16898   \n",
       "1                      NaN                NaN                 202.87660   \n",
       "2                      NaN                NaN                 226.01148   \n",
       "3                      NaN                NaN                1027.51575   \n",
       "4                      NaN                NaN                 517.10706   \n",
       "\n",
       "          dire_tpscroll_count  dire_boots_count  dire_ward_observer_count  \\\n",
       "fight_id                                                                    \n",
       "0                          36                 4                         3   \n",
       "1                          46                 5                        14   \n",
       "2                          46                 5                        19   \n",
       "3                          38                 4                        14   \n",
       "4                          38                 5                         2   \n",
       "\n",
       "          dire_ward_sentry_count  dire_first_ward_time  radiant_won  \n",
       "fight_id                                                             \n",
       "0                              1               2.86596         True  \n",
       "1                             11              -4.13422        False  \n",
       "2                             16             -14.76307        False  \n",
       "3                             12             -21.56140        False  \n",
       "4                              0             475.45059        False  \n",
       "\n",
       "[5 rows x 92 columns]"
      ]
     },
     "execution_count": 5,
     "metadata": {},
     "output_type": "execute_result"
    }
   ],
   "source": [
    "table.head()"
   ]
  },
  {
   "cell_type": "markdown",
   "metadata": {},
   "source": [
    "Зная match_id, можно посмотреть информацию по матчу на портале [Opendota](https://www.opendota.com/).\n",
    "\n",
    "Пример match_id = 3768391963:\n",
    "\n",
    "- Общая статистика https://www.opendota.com/matches/3768391963/\n",
    "- Информация по дракам https://www.opendota.com/matches/3768391963/teamfights\n",
    "\n",
    "Если также известен slot игрока, то можно посмотреть более детальную информацию о нем на портале [GOSU.AI](https://gosu.ai/):\n",
    "- https://gosu.ai/dota/analysis/match/3768391963/0 - r1-игрок,\n",
    "- https://gosu.ai/dota/analysis/match/3768391963/9 - d5-игрок.\n",
    "\n",
    "Подсчитаем общее количество золота и опыта у команд Radiant и Dire, для этого суммируем эти показатели по слотам с r1 по r5 и d1 по d5. Также подсчитаем разницу в общей стоимости игроков команд `gold_diff`."
   ]
  },
  {
   "cell_type": "code",
   "execution_count": 6,
   "metadata": {},
   "outputs": [],
   "source": [
    "table['radiant_gold'] = table['r1_gold'] + table['r2_gold'] + table['r3_gold'] + table['r4_gold'] + table['r5_gold']\n",
    "table['dire_gold'] = table['d1_gold'] + table['d2_gold'] + table['d3_gold'] + table['d4_gold'] + table['d5_gold']\n",
    "table['gold_diff'] = table['radiant_gold'] - table['dire_gold']\n",
    "table['radiant_xp'] = table['r1_xp'] + table['r2_xp'] + table['r3_xp'] + table['r4_xp'] + table['r5_xp']\n",
    "table['dire_xp'] = table['d1_xp'] + table['d2_xp'] + table['d3_xp'] + table['d4_xp'] + table['d5_xp']"
   ]
  },
  {
   "cell_type": "markdown",
   "metadata": {},
   "source": [
    "Очень часто важно понимать какие значения принимает признак. Для ответа на этот вопрос нам поможет [гистограмма](https://ru.wikipedia.org/wiki/%D0%93%D0%B8%D1%81%D1%82%D0%BE%D0%B3%D1%80%D0%B0%D0%BC%D0%BC%D0%B0).\n",
    "\n",
    "Гистограмма строится следующим образом:\n",
    "- Находятся минимальное и максимальное значения признака и наносятся на ось x\n",
    "- Далее ось x делится на равные промежутки (бины)\n",
    "- Для каждого промежутка подсчитывается количество раз, когда значение признака попадает в данный промежуток\n",
    "- Рисуется столбец, высота которого соответствует количеству попаданий признака в бин."
   ]
  },
  {
   "cell_type": "code",
   "execution_count": 7,
   "metadata": {},
   "outputs": [
    {
     "data": {
      "image/png": "[encoded data removed]",
      "text/plain": [
       "<matplotlib.figure.Figure at 0x111288b00>"
      ]
     },
     "metadata": {},
     "output_type": "display_data"
    }
   ],
   "source": [
    "table.hist('radiant_gold', bins=50)\n",
    "plt.show()"
   ]
  },
  {
   "cell_type": "markdown",
   "metadata": {},
   "source": [
    "Из гистограммы видно, золото принимает значения больше `100.000` довольно редко. Сохраним в данных только те строки, где команда в сумме имеет меньше `100.000` золота."
   ]
  },
  {
   "cell_type": "code",
   "execution_count": 8,
   "metadata": {},
   "outputs": [],
   "source": [
    "table_truncated = table.query('radiant_gold < 100000')"
   ]
  },
  {
   "cell_type": "markdown",
   "metadata": {},
   "source": [
    "Теперь гистограмма выглядит иначе"
   ]
  },
  {
   "cell_type": "code",
   "execution_count": 9,
   "metadata": {},
   "outputs": [
    {
     "data": {
      "image/png": "[encoded data removed]",
      "text/plain": [
       "<matplotlib.figure.Figure at 0x111288240>"
      ]
     },
     "metadata": {},
     "output_type": "display_data"
    }
   ],
   "source": [
    "table_truncated.hist('radiant_gold', bins=50)\n",
    "plt.show()"
   ]
  },
  {
   "cell_type": "markdown",
   "metadata": {},
   "source": [
    "Совмещение нескольких гистограмм на одном графике позволяет обнажруживать закономерности в данных. Например, рассмотрим показатель `gold_diff` = `radiant_gold` - `dire_gold`, влияет ли он на победу команды Radiant в драке? Если нарисовать гистограммы `gold_diff` в случае, когда команда Radiant проиграла драку (синий цвет) и в случае победы (оранжевый), можно видеть смещение гистограмм относительное друг друга, что намекает на наличие связи. \n",
    "\n",
    "groupby группирует данные по значениям категориальной переменной, что позволяет рисовать несколько графиков на одной картинке, а также считать среднее/минимум/максимум по группам."
   ]
  },
  {
   "cell_type": "code",
   "execution_count": 10,
   "metadata": {},
   "outputs": [
    {
     "data": {
      "image/png": "[encoded data removed]",
      "text/plain": [
       "<matplotlib.figure.Figure at 0x1068fc940>"
      ]
     },
     "metadata": {},
     "output_type": "display_data"
    }
   ],
   "source": [
    "table_truncated.groupby('radiant_won')['gold_diff'].hist(alpha=0.5, bins=50)\n",
    "plt.legend(table_truncated['radiant_won'].unique())\n",
    "plt.show()"
   ]
  },
  {
   "cell_type": "markdown",
   "metadata": {},
   "source": [
    "Пример подсчета средних значений `gold_diff` на разных уровнях категориальной переменной `radiant_won`."
   ]
  },
  {
   "cell_type": "code",
   "execution_count": 11,
   "metadata": {},
   "outputs": [
    {
     "data": {
      "text/plain": [
       "radiant_won\n",
       "False   -1900.767223\n",
       "True     1690.560993\n",
       "Name: gold_diff, dtype: float64"
      ]
     },
     "execution_count": 11,
     "metadata": {},
     "output_type": "execute_result"
    }
   ],
   "source": [
    "table_truncated.groupby('radiant_won')['gold_diff'].mean()"
   ]
  },
  {
   "cell_type": "markdown",
   "metadata": {},
   "source": [
    "Поскольку герои в игре развиваются с течением времени, зарабатывая золото и опыт, естественным образом возникает вопрос: \n",
    "\"Зависит ли золото от опыта, если да, то как?\"\n",
    "\n",
    "Чтобы ответить на этот вопрос, достаточно построить график зависимости золота от опыта. В этом нам поможет диаграмма рассеяния (eng.: Scatter Plot), которая строится следующим образом:\n",
    "- Берется строка из таблицы данных\n",
    "- Значение показателя `radiant_xp` откладывается по оси x\n",
    "- Значение показателя `radiant_gold` откладывается по оси y\n",
    "- В резульате получается точка на плоскости\n",
    "- Алгоритм повторяется для всех строк в данных\n",
    "\n",
    "Диаграмму можно легко построить с помощью встроенной функции pandas"
   ]
  },
  {
   "cell_type": "code",
   "execution_count": 12,
   "metadata": {},
   "outputs": [
    {
     "data": {
      "text/plain": [
       "<matplotlib.axes._subplots.AxesSubplot at 0x1143ead30>"
      ]
     },
     "execution_count": 12,
     "metadata": {},
     "output_type": "execute_result"
    },
    {
     "data": {
      "image/png": "[encoded data removed]",
      "text/plain": [
       "<matplotlib.figure.Figure at 0x10690bda0>"
      ]
     },
     "metadata": {},
     "output_type": "display_data"
    }
   ],
   "source": [
    "table_truncated.plot(kind='scatter', x='radiant_xp', y='radiant_gold')"
   ]
  },
  {
   "cell_type": "markdown",
   "metadata": {},
   "source": [
    "Либо с помощью matplotlib:\n",
    "- figure - создает пустой холст\n",
    "- scatter - наносит точки на холст\n",
    "- show - отображает картинку"
   ]
  },
  {
   "cell_type": "code",
   "execution_count": 13,
   "metadata": {},
   "outputs": [
    {
     "data": {
      "image/png": "[encoded data removed]",
      "text/plain": [
       "<matplotlib.figure.Figure at 0x114408668>"
      ]
     },
     "metadata": {},
     "output_type": "display_data"
    }
   ],
   "source": [
    "plt.figure(figsize=(9, 5))\n",
    "plt.scatter(table_truncated['radiant_xp'], table_truncated['radiant_gold'])\n",
    "plt.show()"
   ]
  },
  {
   "cell_type": "markdown",
   "metadata": {},
   "source": [
    "Из графика легко видеть, что между золотом и опытом есть зависимость, причем линейная, т.е. существует формула\n",
    "$$gold = k \\cdot xp + b,$$\n",
    "где k и b - некоторые константы.\n",
    "\n",
    "##### Как выглядит диаграмма рассеяния в случае, когда между величинами нет зависимости?"
   ]
  },
  {
   "cell_type": "markdown",
   "metadata": {},
   "source": [
    "Диаграмма рассеяния равномерно заполнилась точками, такая картина свидетельстует о том, что между `r1_hero` и `radiant_gold`\n",
    "нет зависимости."
   ]
  },
  {
   "cell_type": "code",
   "execution_count": 14,
   "metadata": {},
   "outputs": [
    {
     "data": {
      "image/png": "[encoded data removed]",
      "text/plain": [
       "<matplotlib.figure.Figure at 0x114483400>"
      ]
     },
     "metadata": {},
     "output_type": "display_data"
    }
   ],
   "source": [
    "plt.figure()\n",
    "plt.scatter(table_truncated['r1_hero'], table_truncated['radiant_gold'])\n",
    "plt.show()"
   ]
  }
 ],
 "metadata": {
  "kernelspec": {
   "display_name": "Python 3",
   "language": "python",
   "name": "python3"
  },
  "language_info": {
   "codemirror_mode": {
    "name": "ipython",
    "version": 3
   },
   "file_extension": ".py",
   "mimetype": "text/x-python",
   "name": "python",
   "nbconvert_exporter": "python",
   "pygments_lexer": "ipython3",
   "version": "3.7.1"
  }
 },
 "nbformat": 4,
 "nbformat_minor": 2
}
